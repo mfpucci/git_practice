{
 "cells": [
  {
   "cell_type": "code",
   "execution_count": 1,
   "metadata": {
    "scrolled": true
   },
   "outputs": [
    {
     "ename": "NameError",
     "evalue": "name 'df' is not defined",
     "output_type": "error",
     "traceback": [
      "\u001b[0;31m---------------------------------------------------------------------------\u001b[0m",
      "\u001b[0;31mNameError\u001b[0m                                 Traceback (most recent call last)",
      "\u001b[0;32m<ipython-input-1-c80dab7d2aec>\u001b[0m in \u001b[0;36m<module>\u001b[0;34m\u001b[0m\n\u001b[1;32m      1\u001b[0m \u001b[0;31m# Making Categories\u001b[0m\u001b[0;34m\u001b[0m\u001b[0;34m\u001b[0m\u001b[0;34m\u001b[0m\u001b[0m\n\u001b[0;32m----> 2\u001b[0;31m \u001b[0mdf\u001b[0m\u001b[0;34m.\u001b[0m\u001b[0mwaterfront\u001b[0m \u001b[0;34m=\u001b[0m \u001b[0mdf\u001b[0m\u001b[0;34m.\u001b[0m\u001b[0mwaterfront\u001b[0m\u001b[0;34m.\u001b[0m\u001b[0mastype\u001b[0m\u001b[0;34m(\u001b[0m\u001b[0;34m'category'\u001b[0m\u001b[0;34m)\u001b[0m\u001b[0;34m\u001b[0m\u001b[0;34m\u001b[0m\u001b[0m\n\u001b[0m\u001b[1;32m      3\u001b[0m \u001b[0mdf\u001b[0m\u001b[0;34m.\u001b[0m\u001b[0mview\u001b[0m \u001b[0;34m=\u001b[0m \u001b[0mdf\u001b[0m\u001b[0;34m.\u001b[0m\u001b[0mview\u001b[0m\u001b[0;34m.\u001b[0m\u001b[0mastype\u001b[0m\u001b[0;34m(\u001b[0m\u001b[0;34m'category'\u001b[0m\u001b[0;34m)\u001b[0m\u001b[0;34m\u001b[0m\u001b[0;34m\u001b[0m\u001b[0m\n\u001b[1;32m      4\u001b[0m \u001b[0mdf\u001b[0m\u001b[0;34m.\u001b[0m\u001b[0mcondition\u001b[0m \u001b[0;34m=\u001b[0m \u001b[0mdf\u001b[0m\u001b[0;34m.\u001b[0m\u001b[0mcondition\u001b[0m\u001b[0;34m.\u001b[0m\u001b[0mastype\u001b[0m\u001b[0;34m(\u001b[0m\u001b[0;34m'category'\u001b[0m\u001b[0;34m)\u001b[0m\u001b[0;34m\u001b[0m\u001b[0;34m\u001b[0m\u001b[0m\n\u001b[1;32m      5\u001b[0m \u001b[0mdf\u001b[0m\u001b[0;34m.\u001b[0m\u001b[0mgrade\u001b[0m \u001b[0;34m=\u001b[0m \u001b[0mdf\u001b[0m\u001b[0;34m.\u001b[0m\u001b[0mgrade\u001b[0m\u001b[0;34m.\u001b[0m\u001b[0mastype\u001b[0m\u001b[0;34m(\u001b[0m\u001b[0;34m'category'\u001b[0m\u001b[0;34m)\u001b[0m\u001b[0;34m\u001b[0m\u001b[0;34m\u001b[0m\u001b[0m\n",
      "\u001b[0;31mNameError\u001b[0m: name 'df' is not defined"
     ]
    }
   ],
   "source": [
    "# Making Categories\n",
    "df.waterfront = df.waterfront.astype('category')\n",
    "df.view = df.view.astype('category')\n",
    "df.condition = df.condition.astype('category')\n",
    "df.grade = df.grade.astype('category')\n",
    "df.zipcode = df.zipcode.astype('category')\n",
    "df.bedrooms = df.bedrooms.astype('category')\n",
    "df.floors = df.floors.astype('category')\n",
    "df.bathrooms = df.bathrooms.astype('int').astype('category')\n",
    "df.yr_built = df.yr_built.astype('category')\n",
    "\n",
    "# Making Dummies\n",
    "waterfront = pd.get_dummies(df.waterfront, prefix='waterfront', drop_first=True)\n",
    "view = pd.get_dummies(df.view, prefix='view', drop_first=True)\n",
    "condition = pd.get_dummies(df.condition, prefix='condition', drop_first=True)\n",
    "grade = pd.get_dummies(df.grade, prefix='grade', drop_first=True)\n",
    "zipcode = pd.get_dummies(df.zipcode, prefix='zipcode', drop_first=True)\n",
    "bedrooms = pd.get_dummies(df.bedrooms, prefix='bedrooms', drop_first=True)\n",
    "floors = pd.get_dummies(df.floors, prefix='floors', drop_first=True)\n",
    "bathrooms = pd.get_dummies(df.bathrooms, prefix='bathrooms', drop_first=True)\n",
    "yr_built = pd.get_dummies(df.yr_built, prefix='yr_built', drop_first=True)\n",
    "\n",
    "# Adding dummies to the dataset and removing original features\n",
    "df = df.join([waterfront, view, condition, grade, zipcode, bedrooms, floors, yr_built, bathrooms])\n",
    "df.drop(['waterfront','view','condition','grade','zipcode','bedrooms', 'floors', 'yr_built', 'bathrooms'], axis=1, inplace=True)\n",
    "\n"
   ]
  },
  {
   "cell_type": "code",
   "execution_count": null,
   "metadata": {},
   "outputs": [],
   "source": [
    "df.drop(df.index[df['bedrooms'] >= 7], inplace=True)\n",
    "df.drop(df.index[df['bathrooms']>3], inplace=True)\n",
    "df.drop(df.index[df['bathrooms']<0], inplace=True)\n",
    "#Simply removing houses with greater than 3/4 bathrooms will not suffice, lets try looking at the logged histogram of bathrooms.\n",
    "\n",
    "df.drop('sqft_lot15', axis=1, inplace=True)\n",
    "\n",
    "\n",
    "df_2.drop(df_2.index[df_2['sqft_lot'] > 200000], inplace=True)\n",
    "df_2.drop(df_2.index[df_2['sqft_living'] > 4000], inplace=True)\n",
    "df_2.drop(df_2.index[df_2['bedrooms'] >= 7], inplace=True)\n",
    "df_2.drop(df_2.index[df_2['price']>1000000], inplace=True)\n",
    "df_2.drop(df_2.index[df_2['bathrooms']>3], inplace=True)\n",
    "df_2.drop(df_2.index[df_2['bathrooms']<0], inplace=True)"
   ]
  }
 ],
 "metadata": {
  "kernelspec": {
   "display_name": "Python 3",
   "language": "python",
   "name": "python3"
  }
 },
 "nbformat": 4,
 "nbformat_minor": 2
}
