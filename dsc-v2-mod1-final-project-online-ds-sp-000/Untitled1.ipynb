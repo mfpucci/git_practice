{
 "cells": [
  {
   "cell_type": "code",
   "execution_count": null,
   "metadata": {},
   "outputs": [],
   "source": [
    "df = pd.DataFrame(data, columns=df.feature_names)\n",
    "target = pd.DataFrame(data, columns=[\"MEDV\"])\n",
    "X = df\n",
    "y = \"MEDV\"\n",
    "df.isna().sum()\n",
    "df.view\n",
    "df.view=df.view.fillna(0)\n",
    "df.isna().sum()\n",
    "\n",
    "\n",
    "\n",
    "df.drop('sqft_lot15', axis=1, inplace=True)\n",
    "df.drop('zipcode', axis=1, inplace=True)\n",
    "df.drop('condition', axis=1, inplace=True)\n",
    "df.drop('grade', axis=1, inplace=True)\n",
    "df.drop('yr_built', axis=1, inplace=True)\n",
    "df.drop('waterfront',axis=1, inplace=True)\n",
    "df.drop('yr_renovated', axis=1, inplace=True)\n",
    "\n",
    "\n",
    "\n",
    "\n",
    "\n",
    "\n",
    "\n",
    "\n",
    "\n",
    "\n",
    "\n",
    "\n",
    "df['non_log_price'] = (df_unedited_data.price) #This is because when I transformed theinital prices into log, I overwrote the data rather than save as a new df"
   ]
  }
 ],
 "metadata": {
  "kernelspec": {
   "display_name": "Python 3",
   "language": "python",
   "name": "python3"
  },
  "language_info": {
   "codemirror_mode": {
    "name": "ipython",
    "version": 3
   },
   "file_extension": ".py",
   "mimetype": "text/x-python",
   "name": "python",
   "nbconvert_exporter": "python",
   "pygments_lexer": "ipython3",
   "version": "3.7.1"
  }
 },
 "nbformat": 4,
 "nbformat_minor": 2
}
